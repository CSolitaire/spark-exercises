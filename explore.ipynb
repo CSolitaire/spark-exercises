{
 "cells": [
  {
   "cell_type": "markdown",
   "metadata": {},
   "source": [
    "## Explore Exercises: Spark\n",
    "### Corey Solitaire\n",
    "`12.01.2020`"
   ]
  },
  {
   "cell_type": "markdown",
   "metadata": {},
   "source": [
    "#### Imports"
   ]
  },
  {
   "cell_type": "code",
   "execution_count": 1,
   "metadata": {},
   "outputs": [
    {
     "name": "stdout",
     "output_type": "stream",
     "text": [
      "[wrangle.py] reading case.csv\n",
      "[wrangle.py] handling data types\n",
      "[wrangle.py] parsing dates\n",
      "[wrangle.py] adding features\n",
      "[wrangle.py] joining departments\n",
      "\n",
      "df shape: (841704, 20)\n",
      "\n",
      "-RECORD 0------------------------------------\n",
      " case_id              | 1014127332           \n",
      " case_opened_date     | 2018-01-01 00:42:00  \n",
      " case_closed_date     | 2018-01-01 12:29:00  \n",
      " case_due_date        | 2020-09-26 00:42:00  \n",
      " case_late            | false                \n",
      " num_days_late        | -998.5087616000001   \n",
      " case_closed          | true                 \n",
      " service_request_type | Stray Animal         \n",
      " SLA_days             | 999.0                \n",
      " case_status          | Closed               \n",
      " source_id            | svcCRMLS             \n",
      " request_address      | 2315  EL PASO ST,... \n",
      " council_district     | 005                  \n",
      " num_weeks_late       | -142.6441088         \n",
      " zipcode              | 78207                \n",
      " case_age             | 219                  \n",
      " days_to_closed       | 0                    \n",
      " case_lifetime        | 0                    \n",
      " department           | Animal Care Services \n",
      " dept_subject_to_SLA  | true                 \n",
      "only showing top 1 row\n",
      "\n"
     ]
    }
   ],
   "source": [
    "import warnings\n",
    "\n",
    "warnings.filterwarnings(\"ignore\")\n",
    "\n",
    "import pyspark.sql\n",
    "from pyspark.sql.functions import *\n",
    "\n",
    "import numpy as np\n",
    "import pandas as pd\n",
    "\n",
    "%matplotlib inline\n",
    "import matplotlib.pyplot as plt\n",
    "import seaborn as sns\n",
    "\n",
    "from wrangle import wrangle_311\n",
    "\n",
    "spark = pyspark.sql.SparkSession.builder.getOrCreate()\n",
    "\n",
    "df = wrangle_311(spark)\n",
    "print(\"\\ndf shape: (%d, %d)\\n\" % (df.count(), len(df.columns)))\n",
    "df.show(1, vertical=True)"
   ]
  },
  {
   "cell_type": "markdown",
   "metadata": {},
   "source": [
    "## Exercises:\n",
    "\n",
    "- Answer the questions below by using a combination of the techniques discussed in the lesson that you think is appropriate."
   ]
  },
  {
   "cell_type": "markdown",
   "metadata": {},
   "source": [
    "1. How many different cases are there, by department?"
   ]
  },
  {
   "cell_type": "code",
   "execution_count": 2,
   "metadata": {},
   "outputs": [
    {
     "name": "stdout",
     "output_type": "stream",
     "text": [
      "+--------------------+------+\n",
      "|          department| count|\n",
      "+--------------------+------+\n",
      "|         Solid Waste|279270|\n",
      "|Animal Care Services|116915|\n",
      "|Trans & Cap Impro...| 96193|\n",
      "|  Parks & Recreation| 19907|\n",
      "|    Customer Service|  2849|\n",
      "|        Metro Health|  5163|\n",
      "|        City Council|    33|\n",
      "|DSD/Code Enforcement|321374|\n",
      "+--------------------+------+\n",
      "\n"
     ]
    }
   ],
   "source": [
    "df.groupby(\"department\").count().show()"
   ]
  },
  {
   "cell_type": "markdown",
   "metadata": {},
   "source": [
    "2. Does the percentage of cases that are late vary by department?"
   ]
  },
  {
   "cell_type": "code",
   "execution_count": 3,
   "metadata": {},
   "outputs": [
    {
     "name": "stdout",
     "output_type": "stream",
     "text": [
      "+------------------------+------+------+\n",
      "|department              |false |true  |\n",
      "+------------------------+------+------+\n",
      "|Animal Care Services    |0.25  |26.97 |\n",
      "|City Council            |138.94|null  |\n",
      "|Customer Service        |16.83 |134.21|\n",
      "|DSD/Code Enforcement    |11.38 |98.71 |\n",
      "|Metro Health            |4.87  |16.8  |\n",
      "|Parks & Recreation      |5.9   |36.53 |\n",
      "|Solid Waste             |2.11  |13.67 |\n",
      "|Trans & Cap Improvements|7.82  |30.22 |\n",
      "+------------------------+------+------+\n",
      "\n"
     ]
    }
   ],
   "source": [
    "(\n",
    "    df.groupBy(\"department\")\n",
    "    .pivot(\"case_late\")\n",
    "    .agg(round(mean(\"case_lifetime\"), 2))\n",
    "    .orderBy(\"department\")\n",
    "    .show(truncate=False)\n",
    ")"
   ]
  },
  {
   "cell_type": "code",
   "execution_count": 4,
   "metadata": {},
   "outputs": [
    {
     "name": "stdout",
     "output_type": "stream",
     "text": [
      "+------------------------+----------------------------+\n",
      "|department              |round(avg(case_lifetime), 2)|\n",
      "+------------------------+----------------------------+\n",
      "|Animal Care Services    |26.97                       |\n",
      "|Customer Service        |134.21                      |\n",
      "|DSD/Code Enforcement    |98.71                       |\n",
      "|Metro Health            |16.8                        |\n",
      "|Parks & Recreation      |36.53                       |\n",
      "|Solid Waste             |13.67                       |\n",
      "|Trans & Cap Improvements|30.22                       |\n",
      "+------------------------+----------------------------+\n",
      "\n"
     ]
    }
   ],
   "source": [
    "(\n",
    "    \n",
    "    df.where(df.case_late == True)\n",
    "    .groupBy(\"department\")\n",
    "    .agg(round(mean(\"case_lifetime\"), 2))\n",
    "    .orderBy(\"department\")\n",
    "    .show(truncate=False)\n",
    ")"
   ]
  },
  {
   "cell_type": "markdown",
   "metadata": {},
   "source": [
    "3. On average, how late are the late cases by department?"
   ]
  },
  {
   "cell_type": "code",
   "execution_count": 5,
   "metadata": {},
   "outputs": [
    {
     "name": "stdout",
     "output_type": "stream",
     "text": [
      "+------------------------+----------------------------+\n",
      "|department              |round(avg(num_days_late), 2)|\n",
      "+------------------------+----------------------------+\n",
      "|Animal Care Services    |23.46                       |\n",
      "|Customer Service        |87.68                       |\n",
      "|DSD/Code Enforcement    |49.38                       |\n",
      "|Metro Health            |6.54                        |\n",
      "|Parks & Recreation      |22.35                       |\n",
      "|Solid Waste             |7.19                        |\n",
      "|Trans & Cap Improvements|10.6                        |\n",
      "+------------------------+----------------------------+\n",
      "\n"
     ]
    }
   ],
   "source": [
    "(\n",
    "    df.where(df.case_late == True)\n",
    "    .groupBy(\"department\")\n",
    "    .agg(round(mean(\"num_days_late\"), 2))\n",
    "    .orderBy(\"department\")\n",
    "    .show(truncate=False)\n",
    ")"
   ]
  },
  {
   "cell_type": "markdown",
   "metadata": {},
   "source": [
    "4. What is the service type that is the most late? Just for Parks & Rec?"
   ]
  },
  {
   "cell_type": "code",
   "execution_count": 6,
   "metadata": {},
   "outputs": [
    {
     "name": "stdout",
     "output_type": "stream",
     "text": [
      "+------------------------+----------------------------------------+-------------+\n",
      "|department              |service_request_type                    |avg_days_late|\n",
      "+------------------------+----------------------------------------+-------------+\n",
      "|DSD/Code Enforcement    |Zoning: Recycle Yard                    |210.89       |\n",
      "|DSD/Code Enforcement    |Zoning: Junk Yards                      |200.21       |\n",
      "|DSD/Code Enforcement    |Structure/Housing Maintenance           |190.21       |\n",
      "|DSD/Code Enforcement    |Donation Container Enforcement          |171.09       |\n",
      "|DSD/Code Enforcement    |Storage of Used Mattress                |163.97       |\n",
      "|DSD/Code Enforcement    |Labeling for Used Mattress              |162.43       |\n",
      "|DSD/Code Enforcement    |Record Keeping of Used Mattresses       |154.0        |\n",
      "|DSD/Code Enforcement    |Signage Requied for Sale of Used Mattr  |151.64       |\n",
      "|Trans & Cap Improvements|Traffic Signal Graffiti                 |137.65       |\n",
      "|DSD/Code Enforcement    |License Requied Used Mattress Sales     |128.8        |\n",
      "|DSD/Code Enforcement    |Curbstoning                             |120.4        |\n",
      "|DSD/Code Enforcement    |Vendors                                 |117.73       |\n",
      "|DSD/Code Enforcement    |CPS Energy Wood Poles                   |115.19       |\n",
      "|DSD/Code Enforcement    |Graffiti: Private Property (Corridors)  |114.09       |\n",
      "|DSD/Code Enforcement    |Used Mattress Inspection                |108.14       |\n",
      "|DSD/Code Enforcement    |DSDB Ordered/Hold Harmless/Regular: Main|94.9         |\n",
      "|DSD/Code Enforcement    |DSDB Ordered/Hold Harmless/Regular-ALL  |90.6         |\n",
      "|DSD/Code Enforcement    |DSDB Ordered/Hold Harmless/Regular: ASEC|88.68        |\n",
      "|Customer Service        |Complaint                               |87.74        |\n",
      "|DSD/Code Enforcement    |Zoning: Setbacks                        |86.73        |\n",
      "+------------------------+----------------------------------------+-------------+\n",
      "only showing top 20 rows\n",
      "\n"
     ]
    }
   ],
   "source": [
    "(\n",
    "    df.where(df.case_late == True)\n",
    "    .groupBy('department',\"service_request_type\")\n",
    "    .agg(round(mean(\"num_days_late\"), 2)).withColumnRenamed(\"round(avg(num_days_late), 2)\",\"avg_days_late\")\n",
    "    .orderBy(desc('avg_days_late'))\n",
    "    .show(truncate=False)\n",
    ")"
   ]
  },
  {
   "cell_type": "code",
   "execution_count": 7,
   "metadata": {},
   "outputs": [
    {
     "name": "stdout",
     "output_type": "stream",
     "text": [
      "+------------------+-------------------------------------+-------------+\n",
      "|department        |service_request_type                 |avg_days_late|\n",
      "+------------------+-------------------------------------+-------------+\n",
      "|Parks & Recreation|Amenity Park Improvement             |76.87        |\n",
      "|Parks & Recreation|Major Park Improvement Install       |75.79        |\n",
      "|Parks & Recreation|Reservation Assistance               |66.03        |\n",
      "|Parks & Recreation|Park Building Maint Invest           |59.37        |\n",
      "|Parks & Recreation|Sportfield Lighting                  |51.48        |\n",
      "|Parks & Recreation|Electrical                           |42.95        |\n",
      "|Parks & Recreation|Tree Removal                         |40.28        |\n",
      "|Parks & Recreation|Landscape Maintenance                |38.87        |\n",
      "|Parks & Recreation|Heavy Equipment                      |38.57        |\n",
      "|Parks & Recreation|Miscellaneous Park Equipment         |33.62        |\n",
      "|Parks & Recreation|Tree Trimming/Maintenance            |30.7         |\n",
      "|Parks & Recreation|General Building Maintenance         |28.19        |\n",
      "|Parks & Recreation|Masonry                              |27.99        |\n",
      "|Parks & Recreation|Painting                             |25.4         |\n",
      "|Parks & Recreation|Sign Maintenance                     |22.28        |\n",
      "|Parks & Recreation|Fence/Gate Repair                    |20.37        |\n",
      "|Parks & Recreation|Small Equipment Repair               |19.64        |\n",
      "|Parks & Recreation|Pools                                |19.49        |\n",
      "|Parks & Recreation|Plumbing                             |18.62        |\n",
      "|Parks & Recreation|Plumbing/Drinking Fountain/Sprinklers|18.18        |\n",
      "+------------------+-------------------------------------+-------------+\n",
      "only showing top 20 rows\n",
      "\n"
     ]
    }
   ],
   "source": [
    "# Just parks and rec\n",
    "(\n",
    "    df.where(df.case_late == True)\n",
    "    .groupBy('department',\"service_request_type\")\n",
    "    .agg(round(mean(\"num_days_late\"), 2)).withColumnRenamed(\"round(avg(num_days_late), 2)\",\"avg_days_late\")\n",
    "    .orderBy(desc('avg_days_late'))\n",
    "    .where(df.department == 'Parks & Recreation')\n",
    "    .show(truncate=False)\n",
    ")"
   ]
  },
  {
   "cell_type": "markdown",
   "metadata": {},
   "source": [
    "5. For the DSD/Code Enforcement department, what are the most common service request types? Look at other departments too."
   ]
  },
  {
   "cell_type": "code",
   "execution_count": 8,
   "metadata": {},
   "outputs": [
    {
     "name": "stdout",
     "output_type": "stream",
     "text": [
      "+------------------------+------+\n",
      "|department              |count |\n",
      "+------------------------+------+\n",
      "|Solid Waste             |279270|\n",
      "|Animal Care Services    |116915|\n",
      "|Trans & Cap Improvements|96193 |\n",
      "|Parks & Recreation      |19907 |\n",
      "|Customer Service        |2849  |\n",
      "|Metro Health            |5163  |\n",
      "|City Council            |33    |\n",
      "|DSD/Code Enforcement    |321374|\n",
      "+------------------------+------+\n",
      "\n"
     ]
    }
   ],
   "source": [
    "df.groupBy('department').count().show(truncate =False)"
   ]
  },
  {
   "cell_type": "code",
   "execution_count": 9,
   "metadata": {},
   "outputs": [
    {
     "name": "stdout",
     "output_type": "stream",
     "text": [
      "+-----------+---------------------+---------------+\n",
      "|department |service_request_type |num_of_requests|\n",
      "+-----------+---------------------+---------------+\n",
      "|Solid Waste|No Pickup            |86855          |\n",
      "|Solid Waste|Damaged Cart         |30338          |\n",
      "|Solid Waste|Cart Exchange Request|22024          |\n",
      "|Solid Waste|Lost/Stolen Cart     |18731          |\n",
      "|Solid Waste|Dead Animal - Dog    |16714          |\n",
      "+-----------+---------------------+---------------+\n",
      "only showing top 5 rows\n",
      "\n"
     ]
    }
   ],
   "source": [
    "# Solid Waste top 5\n",
    "(\n",
    "    df.groupBy('department',\"service_request_type\")\n",
    "    .agg(round(count(\"service_request_type\"), 2))\n",
    "    .where(df.department == 'Solid Waste').withColumnRenamed(\"round(count(service_request_type), 2)\",\"num_of_requests\")\n",
    "    .orderBy(desc('num_of_requests'))\n",
    "    .show(5, truncate=False)\n",
    ")"
   ]
  },
  {
   "cell_type": "code",
   "execution_count": 10,
   "metadata": {},
   "outputs": [
    {
     "name": "stdout",
     "output_type": "stream",
     "text": [
      "+--------------------+-------------------------------+---------------+\n",
      "|department          |service_request_type           |num_of_requests|\n",
      "+--------------------+-------------------------------+---------------+\n",
      "|Animal Care Services|Stray Animal                   |26760          |\n",
      "|Animal Care Services|Aggressive Animal(Non-Critical)|24882          |\n",
      "|Animal Care Services|Animal Neglect                 |13441          |\n",
      "|Animal Care Services|Trapped/Confined Animal        |11354          |\n",
      "|Animal Care Services|Public Nuisance(Own Animal)    |10715          |\n",
      "+--------------------+-------------------------------+---------------+\n",
      "only showing top 5 rows\n",
      "\n"
     ]
    }
   ],
   "source": [
    "# Animal Care Services top 5\n",
    "(\n",
    "    df.groupBy('department',\"service_request_type\")\n",
    "    .agg(round(count(\"service_request_type\"), 2))\n",
    "    .where(df.department == 'Animal Care Services').withColumnRenamed(\"round(count(service_request_type), 2)\",\"num_of_requests\")\n",
    "    .orderBy(desc('num_of_requests'))\n",
    "    .show(5, truncate=False)\n",
    ")"
   ]
  },
  {
   "cell_type": "code",
   "execution_count": 11,
   "metadata": {},
   "outputs": [
    {
     "name": "stdout",
     "output_type": "stream",
     "text": [
      "+------------------------+----------------------------------------------+---------------+\n",
      "|department              |service_request_type                          |num_of_requests|\n",
      "+------------------------+----------------------------------------------+---------------+\n",
      "|Trans & Cap Improvements|Pot Hole Repair                               |20616          |\n",
      "|Trans & Cap Improvements|Traffic Signal Ops and Maintenance - Emergency|7997           |\n",
      "|Trans & Cap Improvements|Traffic Sign Missing/Down                     |5674           |\n",
      "|Trans & Cap Improvements|Base/Pavement Repair                          |5385           |\n",
      "|Trans & Cap Improvements|Signal Timing Modification                    |4414           |\n",
      "+------------------------+----------------------------------------------+---------------+\n",
      "only showing top 5 rows\n",
      "\n"
     ]
    }
   ],
   "source": [
    "#Trans & Cap Improvements top 5\n",
    "(\n",
    "    df.groupBy('department',\"service_request_type\")\n",
    "    .agg(round(count(\"service_request_type\"), 2))\n",
    "    .where(df.department == 'Trans & Cap Improvements').withColumnRenamed(\"round(count(service_request_type), 2)\",\"num_of_requests\")\n",
    "    .orderBy(desc('num_of_requests'))\n",
    "    .show(5, truncate=False)\n",
    ")"
   ]
  },
  {
   "cell_type": "code",
   "execution_count": 12,
   "metadata": {},
   "outputs": [
    {
     "name": "stdout",
     "output_type": "stream",
     "text": [
      "+------------------+----------------------------+---------------+\n",
      "|department        |service_request_type        |num_of_requests|\n",
      "+------------------+----------------------------+---------------+\n",
      "|Parks & Recreation|Carpentry                   |1944           |\n",
      "|Parks & Recreation|Plumbing                    |1782           |\n",
      "|Parks & Recreation|Heating and Air Conditioning|1459           |\n",
      "|Parks & Recreation|Playgrounds                 |1438           |\n",
      "|Parks & Recreation|Ballfields                  |1234           |\n",
      "+------------------+----------------------------+---------------+\n",
      "only showing top 5 rows\n",
      "\n"
     ]
    }
   ],
   "source": [
    "# Parks & Recreation top 5\n",
    "(\n",
    "    df.groupBy('department',\"service_request_type\")\n",
    "    .agg(round(count(\"service_request_type\"), 2))\n",
    "    .where(df.department == 'Parks & Recreation').withColumnRenamed(\"round(count(service_request_type), 2)\",\"num_of_requests\")\n",
    "    .orderBy(desc('num_of_requests'))\n",
    "    .show(5, truncate=False)\n",
    ")"
   ]
  },
  {
   "cell_type": "code",
   "execution_count": 13,
   "metadata": {},
   "outputs": [
    {
     "name": "stdout",
     "output_type": "stream",
     "text": [
      "+----------------+--------------------+---------------+\n",
      "|department      |service_request_type|num_of_requests|\n",
      "+----------------+--------------------+---------------+\n",
      "|Customer Service|Complaint           |2388           |\n",
      "|Customer Service|Compliment          |461            |\n",
      "+----------------+--------------------+---------------+\n",
      "\n"
     ]
    }
   ],
   "source": [
    "# Customer Service top 5\n",
    "(\n",
    "    df.groupBy('department',\"service_request_type\")\n",
    "    .agg(round(count(\"service_request_type\"), 2))\n",
    "    .where(df.department == 'Customer Service').withColumnRenamed(\"round(count(service_request_type), 2)\",\"num_of_requests\")\n",
    "    .orderBy(desc('num_of_requests'))\n",
    "    .show(5, truncate=False)\n",
    ")"
   ]
  },
  {
   "cell_type": "code",
   "execution_count": 14,
   "metadata": {},
   "outputs": [
    {
     "name": "stdout",
     "output_type": "stream",
     "text": [
      "+------------+-----------------------+---------------+\n",
      "|department  |service_request_type   |num_of_requests|\n",
      "+------------+-----------------------+---------------+\n",
      "|Metro Health|License Renewal Invoice|1349           |\n",
      "|Metro Health|Hygienic Practices     |946            |\n",
      "|Metro Health|Pests                  |715            |\n",
      "|Metro Health|Food Contact Surfaces  |602            |\n",
      "|Metro Health|Public Right of Way    |538            |\n",
      "+------------+-----------------------+---------------+\n",
      "only showing top 5 rows\n",
      "\n"
     ]
    }
   ],
   "source": [
    "# Metro Health top 5\n",
    "(\n",
    "    df.groupBy('department',\"service_request_type\")\n",
    "    .agg(round(count(\"service_request_type\"), 2))\n",
    "    .where(df.department == 'Metro Health').withColumnRenamed(\"round(count(service_request_type), 2)\",\"num_of_requests\")\n",
    "    .orderBy(desc('num_of_requests'))\n",
    "    .show(5, truncate=False)\n",
    ")"
   ]
  },
  {
   "cell_type": "code",
   "execution_count": 15,
   "metadata": {},
   "outputs": [
    {
     "name": "stdout",
     "output_type": "stream",
     "text": [
      "+------------+--------------------------------------+---------------+\n",
      "|department  |service_request_type                  |num_of_requests|\n",
      "+------------+--------------------------------------+---------------+\n",
      "|City Council|Request for Research/Information      |31             |\n",
      "|City Council|CCO_Request for Research/Information_1|2              |\n",
      "+------------+--------------------------------------+---------------+\n",
      "\n"
     ]
    }
   ],
   "source": [
    "# City Council top 5\n",
    "(\n",
    "    df.groupBy('department',\"service_request_type\")\n",
    "    .agg(round(count(\"service_request_type\"), 2))\n",
    "    .where(df.department == 'City Council').withColumnRenamed(\"round(count(service_request_type), 2)\",\"num_of_requests\")\n",
    "    .orderBy(desc('num_of_requests'))\n",
    "    .show(5, truncate=False)\n",
    ")"
   ]
  },
  {
   "cell_type": "code",
   "execution_count": 16,
   "metadata": {},
   "outputs": [
    {
     "name": "stdout",
     "output_type": "stream",
     "text": [
      "+--------------------+--------------------------------+---------------+\n",
      "|department          |service_request_type            |num_of_requests|\n",
      "+--------------------+--------------------------------+---------------+\n",
      "|DSD/Code Enforcement|Overgrown Yard/Trash            |65895          |\n",
      "|DSD/Code Enforcement|Bandit Signs                    |32910          |\n",
      "|DSD/Code Enforcement|Front Or Side Yard Parking      |28794          |\n",
      "|DSD/Code Enforcement|Junk Vehicle On Private Property|21473          |\n",
      "|DSD/Code Enforcement|Alley-Way Maintenance           |20214          |\n",
      "+--------------------+--------------------------------+---------------+\n",
      "only showing top 5 rows\n",
      "\n"
     ]
    }
   ],
   "source": [
    "# DSD/Code Enforcement top 5\n",
    "(\n",
    "    df.groupBy('department',\"service_request_type\")\n",
    "    .agg(round(count(\"service_request_type\"), 2))\n",
    "    .where(df.department == 'DSD/Code Enforcement').withColumnRenamed(\"round(count(service_request_type), 2)\",\"num_of_requests\")\n",
    "    .orderBy(desc('num_of_requests'))\n",
    "    .show(5, truncate=False)\n",
    ")"
   ]
  },
  {
   "cell_type": "markdown",
   "metadata": {},
   "source": [
    "6. Does whether or not its a weekend matter for when a case is opened/closed?"
   ]
  },
  {
   "cell_type": "code",
   "execution_count": 17,
   "metadata": {},
   "outputs": [
    {
     "name": "stdout",
     "output_type": "stream",
     "text": [
      "+--------------------+----------------+----------------+\n",
      "|          department|case_opened_date|case_closed_date|\n",
      "+--------------------+----------------+----------------+\n",
      "|Animal Care Services|      2018-01-01|      2018-01-01|\n",
      "|Trans & Cap Impro...|      2018-01-01|      2018-01-03|\n",
      "|Trans & Cap Impro...|      2018-01-01|      2018-01-02|\n",
      "|DSD/Code Enforcement|      2018-01-01|      2018-01-02|\n",
      "|Animal Care Services|      2018-01-01|      2018-01-01|\n",
      "+--------------------+----------------+----------------+\n",
      "only showing top 5 rows\n",
      "\n"
     ]
    }
   ],
   "source": [
    "cases_by_day = df.select(\n",
    "    \"department\",\n",
    "    date_format(\"case_opened_date\", \"yyyy-MM-dd\").alias(\"case_opened_date\"),\n",
    "    date_format(\"case_closed_date\", \"yyyy-MM-dd\").alias(\"case_closed_date\"),\n",
    ")\n",
    "\n",
    "cases_by_day.show(5)"
   ]
  },
  {
   "cell_type": "code",
   "execution_count": 18,
   "metadata": {},
   "outputs": [
    {
     "data": {
      "text/plain": [
       "case_opened_date\n",
       "2017-01-01     155\n",
       "2017-01-02    1397\n",
       "2017-01-03    1760\n",
       "2017-01-04    1613\n",
       "2017-01-05    1791\n",
       "              ... \n",
       "2018-08-04     665\n",
       "2018-08-05     319\n",
       "2018-08-06    2071\n",
       "2018-08-07    2405\n",
       "2018-08-08     604\n",
       "Name: cases_opened, Length: 585, dtype: int64"
      ]
     },
     "execution_count": 18,
     "metadata": {},
     "output_type": "execute_result"
    }
   ],
   "source": [
    "cases_opened_by_day = (\n",
    "    cases_by_day\n",
    "    .groupby('case_opened_date')\n",
    "    .count()\n",
    "    .na.drop()\n",
    "    .sort('case_opened_date')\n",
    "    .toPandas()\n",
    "    .assign(case_opened_date=lambda df: pd.to_datetime(df.case_opened_date))\n",
    "    .set_index('case_opened_date')\n",
    "    ['count']\n",
    ")\n",
    "cases_opened_by_day.name = 'cases_opened'\n",
    "cases_opened_by_day"
   ]
  },
  {
   "cell_type": "code",
   "execution_count": 19,
   "metadata": {},
   "outputs": [],
   "source": [
    "cases_closed_by_day = (\n",
    "    cases_by_day\n",
    "    .groupby('case_closed_date')\n",
    "    .count()\n",
    "    .na.drop()\n",
    "    .sort('case_closed_date')\n",
    "    .toPandas()\n",
    "    .assign(case_closed_date=lambda df: pd.to_datetime(df.case_closed_date))\n",
    "    .set_index('case_closed_date')\n",
    "    ['count']\n",
    ")\n",
    "cases_closed_by_day.name = 'cases_closed'"
   ]
  },
  {
   "cell_type": "code",
   "execution_count": 20,
   "metadata": {},
   "outputs": [
    {
     "data": {
      "text/html": [
       "<div>\n",
       "<style scoped>\n",
       "    .dataframe tbody tr th:only-of-type {\n",
       "        vertical-align: middle;\n",
       "    }\n",
       "\n",
       "    .dataframe tbody tr th {\n",
       "        vertical-align: top;\n",
       "    }\n",
       "\n",
       "    .dataframe thead th {\n",
       "        text-align: right;\n",
       "    }\n",
       "</style>\n",
       "<table border=\"1\" class=\"dataframe\">\n",
       "  <thead>\n",
       "    <tr style=\"text-align: right;\">\n",
       "      <th></th>\n",
       "      <th>cases_opened</th>\n",
       "      <th>cases_closed</th>\n",
       "    </tr>\n",
       "  </thead>\n",
       "  <tbody>\n",
       "    <tr>\n",
       "      <th>2017-01-01</th>\n",
       "      <td>155</td>\n",
       "      <td>67</td>\n",
       "    </tr>\n",
       "    <tr>\n",
       "      <th>2017-01-02</th>\n",
       "      <td>1397</td>\n",
       "      <td>385</td>\n",
       "    </tr>\n",
       "    <tr>\n",
       "      <th>2017-01-03</th>\n",
       "      <td>1760</td>\n",
       "      <td>734</td>\n",
       "    </tr>\n",
       "    <tr>\n",
       "      <th>2017-01-04</th>\n",
       "      <td>1613</td>\n",
       "      <td>1206</td>\n",
       "    </tr>\n",
       "    <tr>\n",
       "      <th>2017-01-05</th>\n",
       "      <td>1791</td>\n",
       "      <td>1173</td>\n",
       "    </tr>\n",
       "    <tr>\n",
       "      <th>...</th>\n",
       "      <td>...</td>\n",
       "      <td>...</td>\n",
       "    </tr>\n",
       "    <tr>\n",
       "      <th>2018-08-04</th>\n",
       "      <td>665</td>\n",
       "      <td>730</td>\n",
       "    </tr>\n",
       "    <tr>\n",
       "      <th>2018-08-05</th>\n",
       "      <td>319</td>\n",
       "      <td>197</td>\n",
       "    </tr>\n",
       "    <tr>\n",
       "      <th>2018-08-06</th>\n",
       "      <td>2071</td>\n",
       "      <td>1713</td>\n",
       "    </tr>\n",
       "    <tr>\n",
       "      <th>2018-08-07</th>\n",
       "      <td>2405</td>\n",
       "      <td>2096</td>\n",
       "    </tr>\n",
       "    <tr>\n",
       "      <th>2018-08-08</th>\n",
       "      <td>604</td>\n",
       "      <td>680</td>\n",
       "    </tr>\n",
       "  </tbody>\n",
       "</table>\n",
       "<p>585 rows × 2 columns</p>\n",
       "</div>"
      ],
      "text/plain": [
       "            cases_opened  cases_closed\n",
       "2017-01-01           155            67\n",
       "2017-01-02          1397           385\n",
       "2017-01-03          1760           734\n",
       "2017-01-04          1613          1206\n",
       "2017-01-05          1791          1173\n",
       "...                  ...           ...\n",
       "2018-08-04           665           730\n",
       "2018-08-05           319           197\n",
       "2018-08-06          2071          1713\n",
       "2018-08-07          2405          2096\n",
       "2018-08-08           604           680\n",
       "\n",
       "[585 rows x 2 columns]"
      ]
     },
     "execution_count": 20,
     "metadata": {},
     "output_type": "execute_result"
    }
   ],
   "source": [
    "ts = pd.concat([cases_opened_by_day, cases_closed_by_day], axis=1)\n",
    "ts"
   ]
  },
  {
   "cell_type": "code",
   "execution_count": 21,
   "metadata": {},
   "outputs": [
    {
     "data": {
      "image/png": "[encoded data removed]",
      "text/plain": [
       "<Figure size 936x504 with 1 Axes>"
      ]
     },
     "metadata": {
      "needs_background": "light"
     },
     "output_type": "display_data"
    }
   ],
   "source": [
    "ts['weekday'] = ts.index.strftime('%w-%a')\n",
    "ts.groupby('weekday').mean().plot.bar(figsize=(13, 7), ec='black', width=.9)\n",
    "plt.title('Number of Cases Opened/Closed by Day for San Antonio 311')\n",
    "plt.ylabel('Number of Cases')\n",
    "plt.show()"
   ]
  },
  {
   "cell_type": "markdown",
   "metadata": {},
   "source": [
    "7. On average, how many cases are opened a day for the Customer Service department?"
   ]
  },
  {
   "cell_type": "code",
   "execution_count": 22,
   "metadata": {},
   "outputs": [],
   "source": [
    "# Casses by day\n",
    "cases_by_day = df.select(\n",
    "    \"department\",\n",
    "    date_format(\"case_opened_date\", \"yyyy-MM-dd\").alias(\"case_opened_date\"),\n",
    "    date_format(\"case_closed_date\", \"yyyy-MM-dd\").alias(\"case_closed_date\")).where(df.department == 'Customer Service')"
   ]
  },
  {
   "cell_type": "code",
   "execution_count": 23,
   "metadata": {},
   "outputs": [],
   "source": [
    "# Cases opened by day\n",
    "cases_opened_by_day = (\n",
    "    cases_by_day\n",
    "    .groupby('case_opened_date')\n",
    "    .count()\n",
    "    .na.drop()\n",
    "    .sort('case_opened_date')\n",
    "    .toPandas()\n",
    "    .assign(case_opened_date=lambda df: pd.to_datetime(df.case_opened_date))\n",
    "    .set_index('case_opened_date')\n",
    "    ['count']\n",
    ")\n",
    "cases_opened_by_day.name = 'cases_opened'"
   ]
  },
  {
   "cell_type": "code",
   "execution_count": 24,
   "metadata": {},
   "outputs": [],
   "source": [
    "#Cases closed by day\n",
    "cases_closed_by_day = (\n",
    "    cases_by_day\n",
    "    .groupby('case_closed_date')\n",
    "    .count()\n",
    "    .na.drop()\n",
    "    .sort('case_closed_date')\n",
    "    .toPandas()\n",
    "    .assign(case_closed_date=lambda df: pd.to_datetime(df.case_closed_date))\n",
    "    .set_index('case_closed_date')\n",
    "    ['count']\n",
    ")\n",
    "cases_closed_by_day.name = 'cases_closed'"
   ]
  },
  {
   "cell_type": "code",
   "execution_count": 25,
   "metadata": {},
   "outputs": [],
   "source": [
    "# Concat data frames\n",
    "ts = pd.concat([cases_opened_by_day, cases_closed_by_day], axis=1)"
   ]
  },
  {
   "cell_type": "code",
   "execution_count": 26,
   "metadata": {},
   "outputs": [
    {
     "data": {
      "image/png": "[encoded data removed]",
      "text/plain": [
       "<Figure size 936x504 with 1 Axes>"
      ]
     },
     "metadata": {
      "needs_background": "light"
     },
     "output_type": "display_data"
    }
   ],
   "source": [
    "# Visualize\n",
    "ts['weekday'] = ts.index.strftime('%w-%a')\n",
    "ts.groupby('weekday').mean().plot.bar(figsize=(13, 7), ec='black', width=.9)\n",
    "plt.title('Number of Cases Opened/Closed by Day for Customer Service Department')\n",
    "plt.ylabel('Number of Cases')\n",
    "plt.show()"
   ]
  },
  {
   "cell_type": "markdown",
   "metadata": {},
   "source": [
    "8. Does the number of service requests for the solid waste department vary by day of the week?"
   ]
  },
  {
   "cell_type": "code",
   "execution_count": 28,
   "metadata": {},
   "outputs": [],
   "source": [
    "# Casses by day\n",
    "cases_by_day = df.select(\n",
    "    \"department\",\n",
    "    date_format(\"case_opened_date\", \"yyyy-MM-dd\").alias(\"case_opened_date\"),\n",
    "    date_format(\"case_closed_date\", \"yyyy-MM-dd\").alias(\"case_closed_date\")).where(df.department == 'Solid Waste')"
   ]
  },
  {
   "cell_type": "code",
   "execution_count": 29,
   "metadata": {},
   "outputs": [],
   "source": [
    "# Cases opened by day\n",
    "cases_opened_by_day = (\n",
    "    cases_by_day\n",
    "    .groupby('case_opened_date')\n",
    "    .count()\n",
    "    .na.drop()\n",
    "    .sort('case_opened_date')\n",
    "    .toPandas()\n",
    "    .assign(case_opened_date=lambda df: pd.to_datetime(df.case_opened_date))\n",
    "    .set_index('case_opened_date')\n",
    "    ['count']\n",
    ")\n",
    "cases_opened_by_day.name = 'cases_opened'"
   ]
  },
  {
   "cell_type": "code",
   "execution_count": 30,
   "metadata": {},
   "outputs": [],
   "source": [
    "#Cases closed by day\n",
    "cases_closed_by_day = (\n",
    "    cases_by_day\n",
    "    .groupby('case_closed_date')\n",
    "    .count()\n",
    "    .na.drop()\n",
    "    .sort('case_closed_date')\n",
    "    .toPandas()\n",
    "    .assign(case_closed_date=lambda df: pd.to_datetime(df.case_closed_date))\n",
    "    .set_index('case_closed_date')\n",
    "    ['count']\n",
    ")\n",
    "cases_closed_by_day.name = 'cases_closed'"
   ]
  },
  {
   "cell_type": "code",
   "execution_count": 31,
   "metadata": {},
   "outputs": [],
   "source": [
    "# Concat data frames\n",
    "ts = pd.concat([cases_opened_by_day, cases_closed_by_day], axis=1)"
   ]
  },
  {
   "cell_type": "code",
   "execution_count": null,
   "metadata": {},
   "outputs": [],
   "source": [
    "# Visualize\n",
    "# Visualize\n",
    "ts['weekday'] = ts.index.strftime('%w-%a')\n",
    "ts.groupby('weekday').mean().plot.bar(figsize=(13, 7), ec='black', width=.9)\n",
    "plt.title('Number of Cases Opened/Closed by Day for So Department')\n",
    "plt.ylabel('Number of Cases')\n",
    "plt.show()"
   ]
  }
 ],
 "metadata": {
  "kernelspec": {
   "display_name": "Python 3",
   "language": "python",
   "name": "python3"
  },
  "language_info": {
   "codemirror_mode": {
    "name": "ipython",
    "version": 3
   },
   "file_extension": ".py",
   "mimetype": "text/x-python",
   "name": "python",
   "nbconvert_exporter": "python",
   "pygments_lexer": "ipython3",
   "version": "3.8.5"
  }
 },
 "nbformat": 4,
 "nbformat_minor": 4
}
